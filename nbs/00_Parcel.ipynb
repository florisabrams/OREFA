{
 "cells": [
  {
   "cell_type": "markdown",
   "metadata": {},
   "source": [
    "# Parcel\n",
    "\n",
    "> Parcel object"
   ]
  },
  {
   "cell_type": "code",
   "execution_count": 8,
   "metadata": {},
   "outputs": [],
   "source": [
    "#| default_exp Parcel"
   ]
  },
  {
   "cell_type": "code",
   "execution_count": 9,
   "metadata": {},
   "outputs": [],
   "source": [
    "#| hide\n",
    "from nbdev.showdoc import *\n",
    "import json\n",
    "from math import exp, log\n",
    "import configparser\n",
    "import geopandas as gpd"
   ]
  },
  {
   "cell_type": "code",
   "execution_count": null,
   "metadata": {},
   "outputs": [],
   "source": []
  },
  {
   "cell_type": "code",
   "execution_count": 10,
   "metadata": {},
   "outputs": [],
   "source": [
    "#| export\n",
    "# Pydantic for polygon is difficult\n",
    "\n",
    "class Parcel():\n",
    "    def __init__(self, id, crop, soil, deposition, geom, config = None):\n",
    "        self.id = id\n",
    "        self.crop = crop\n",
    "        self.soil = soil\n",
    "        self.deposition = deposition\n",
    "        self.geom = geom\n",
    "        self.config = None\n",
    "        \n",
    "    def __repr__(self):\n",
    "        return \"<Parcel('%s', '%s', '%s', '%s')>\" % (self.crop, self.soil, self.deposition, self.geom)\n",
    "    \n",
    "    def read_config(self, config_path):\n",
    "        # import the config file\n",
    "        config = configparser.ConfigParser()\n",
    "        config.read(config_path)\n",
    "        self.config = config\n",
    "        \n",
    "    def product_conc_prediction(self, time):\n",
    "            with open(self.config['directory']['dir']+self.config[\"ModelInputs\"][\"CropGroupProperties\"], 'r') as crop_group_to_properties:\n",
    "                dict_crop_group_to_properties = json.load(crop_group_to_properties)\n",
    "            with open(self.config['directory']['dir']+self.config[\"ModelInputs\"][\"SoilGroupProperties\"], 'r') as soil_properties:\n",
    "                dict_soil_to_properties = json.load(soil_properties)\n",
    "            with open(self.config['directory']['dir']+self.config[\"ModelInputs\"][\"RnProperties\"], 'r') as RN_properties:\n",
    "                dict_RN_properties = json.load(RN_properties)\n",
    "            with open(self.config['directory']['dir']+self.config[\"ModelInputs\"][\"TF\"], 'r') as TF:\n",
    "                TF_dict = json.load(TF)\n",
    "            with open(self.config['directory']['dir']+self.config[\"ModelInputs\"][\"CfilLevel\"], 'r') as cfil:\n",
    "                intervention_levels = json.load(cfil)\n",
    "            with open(self.config['directory']['dir']+self.config[\"ModelInputs\"][\"AnimalFeedIntake\"], 'r') as feed:\n",
    "                animal_daily_feed_intake = json.load(feed)\n",
    "            with open(self.config['directory']['dir']+self.config[\"ModelInputs\"][\"AnimalDryWeight\"], 'r') as dry:\n",
    "                dict_dry_weight_animal_feed = json.load(dry)\n",
    "\n",
    "            root_zone_depth = float(dict_crop_group_to_properties.get(self.crop).get('root_depth'))\n",
    "            soil_density = float(dict_soil_to_properties.get(self.soil).get('density'))\n",
    "            net_infiltration = float(\n",
    "                dict_soil_to_properties.get(self.soil).get(\"Net_infiltration_rate\"))\n",
    "            Volumetric_water = float(\n",
    "                dict_soil_to_properties.get(self.soil).get(\"Volumetric_water_content\"))\n",
    "            kd = float(dict_soil_to_properties.get(self.soil).get(\"kd\"))\n",
    "\n",
    "            leaching_rate = net_infiltration / (root_zone_depth * (Volumetric_water + (soil_density * kd)))\n",
    "            decay_rate = float(dict_RN_properties.get(\"Cs-137\").get(\"decay_rate\"))\n",
    "\n",
    "            # as long as the time_to_clean field is not field contin to search for the year where concentration is below CFIL\n",
    "            # time untill concentration is = fill vegetation\n",
    "\n",
    "            # best to have real values for soil concenrtation, but we divide the surface contamination over 30 cm soil with density of 135O kg/m3\n",
    "            # Also possible to use this factor of 1/53, it is a homogenous distribution of cesium over the soil based on a japanese paper\n",
    "            current_soil_concentration = float(self.deposition) / (soil_density * float(root_zone_depth)) * exp(-(decay_rate + leaching_rate) * time)\n",
    "            concentration_in_vegetation = float(current_soil_concentration)  * float(TF_dict.get(self.crop).get(self.soil))\n",
    "\n",
    "            if self.crop in [\"pasture\", \"feed crop\"]:\n",
    "                if self.crop in [\"pasture\"]:\n",
    "                    ratio_soiltopasture = animal_daily_feed_intake.get('cow').get(self.crop).get('soil')\n",
    "                    pasture_intake = animal_daily_feed_intake.get('cow').get(self.crop).get('grass')\n",
    "                    pasture_intake_fresh = float(pasture_intake) / float(dict_dry_weight_animal_feed.get('pasture'))\n",
    "\n",
    "                    transfer_to_milk = 0.0052\n",
    "                    transfer_to_meat = 0.019\n",
    "\n",
    "                    milk_concentration = ((concentration_in_vegetation + (\n",
    "                                current_soil_concentration * float(ratio_soiltopasture))) * float(\n",
    "                        pasture_intake_fresh)) * transfer_to_milk\n",
    "                    meat_concentration = ((concentration_in_vegetation + (\n",
    "                            current_soil_concentration * float(ratio_soiltopasture))) * float(\n",
    "                        pasture_intake_fresh)) * transfer_to_meat\n",
    "\n",
    "                else:\n",
    "                    pasture_intake = animal_daily_feed_intake.get('cow').get(self.crop)\n",
    "                    pasture_intake_fresh = float(pasture_intake) / float(dict_dry_weight_animal_feed.get('pasture'))\n",
    "                    transfer_to_milk = 0.0052\n",
    "                    transfer_to_meat = 0.019\n",
    "\n",
    "                    milk_concentration = ((concentration_in_vegetation) * pasture_intake_fresh) * transfer_to_milk\n",
    "                    meat_concentration = ((concentration_in_vegetation) * pasture_intake_fresh) * transfer_to_meat\n",
    "\n",
    "                # Will always be higher than milk\n",
    "                self.product_concentration = milk_concentration\n",
    "\n",
    "                if self.product_concentration < float(intervention_levels.get('milk')):\n",
    "                    self.remediation_needed = False\n",
    "                else:\n",
    "                    self.remediation_needed = True\n",
    "\n",
    "\n",
    "            else:\n",
    "                self.product_concentration = concentration_in_vegetation\n",
    "\n",
    "                if self.product_concentration < float(intervention_levels.get('crops')):\n",
    "                    self.remediation_needed = False\n",
    "                else:\n",
    "                    self.remediation_needed = True\n",
    "\n",
    "            return\n"
   ]
  },
  {
   "cell_type": "code",
   "execution_count": 11,
   "metadata": {},
   "outputs": [
    {
     "ename": "DriverError",
     "evalue": "/workspaces/OREFA/Assets/Data/aoi.csv: No such file or directory",
     "output_type": "error",
     "traceback": [
      "\u001b[0;31m---------------------------------------------------------------------------\u001b[0m",
      "\u001b[0;31mCPLE_OpenFailedError\u001b[0m                      Traceback (most recent call last)",
      "File \u001b[0;32mfiona/ogrext.pyx:136\u001b[0m, in \u001b[0;36mfiona.ogrext.gdal_open_vector\u001b[0;34m()\u001b[0m\n",
      "File \u001b[0;32mfiona/_err.pyx:291\u001b[0m, in \u001b[0;36mfiona._err.exc_wrap_pointer\u001b[0;34m()\u001b[0m\n",
      "\u001b[0;31mCPLE_OpenFailedError\u001b[0m: /workspaces/OREFA/Assets/Data/aoi.csv: No such file or directory",
      "\nDuring handling of the above exception, another exception occurred:\n",
      "\u001b[0;31mDriverError\u001b[0m                               Traceback (most recent call last)",
      "\u001b[1;32m/Users/florisabrams/OREFA/nbs/00_Parcel.ipynb Cell 6\u001b[0m line \u001b[0;36m1\n\u001b[0;32m----> <a href='vscode-notebook-cell:/Users/florisabrams/OREFA/nbs/00_Parcel.ipynb#X24sZmlsZQ%3D%3D?line=0'>1</a>\u001b[0m parcel_df \u001b[39m=\u001b[39m gpd\u001b[39m.\u001b[39;49mread_file(\u001b[39m'\u001b[39;49m\u001b[39m/workspaces/OREFA/Assets/Data/aoi.csv\u001b[39;49m\u001b[39m'\u001b[39;49m)\n",
      "File \u001b[0;32m~/mambaforge/envs/orefa/lib/python3.11/site-packages/geopandas/io/file.py:281\u001b[0m, in \u001b[0;36m_read_file\u001b[0;34m(filename, bbox, mask, rows, engine, **kwargs)\u001b[0m\n\u001b[1;32m    278\u001b[0m     \u001b[39melse\u001b[39;00m:\n\u001b[1;32m    279\u001b[0m         path_or_bytes \u001b[39m=\u001b[39m filename\n\u001b[0;32m--> 281\u001b[0m     \u001b[39mreturn\u001b[39;00m _read_file_fiona(\n\u001b[1;32m    282\u001b[0m         path_or_bytes, from_bytes, bbox\u001b[39m=\u001b[39;49mbbox, mask\u001b[39m=\u001b[39;49mmask, rows\u001b[39m=\u001b[39;49mrows, \u001b[39m*\u001b[39;49m\u001b[39m*\u001b[39;49mkwargs\n\u001b[1;32m    283\u001b[0m     )\n\u001b[1;32m    285\u001b[0m \u001b[39melse\u001b[39;00m:\n\u001b[1;32m    286\u001b[0m     \u001b[39mraise\u001b[39;00m \u001b[39mValueError\u001b[39;00m(\u001b[39mf\u001b[39m\u001b[39m\"\u001b[39m\u001b[39munknown engine \u001b[39m\u001b[39m'\u001b[39m\u001b[39m{\u001b[39;00mengine\u001b[39m}\u001b[39;00m\u001b[39m'\u001b[39m\u001b[39m\"\u001b[39m)\n",
      "File \u001b[0;32m~/mambaforge/envs/orefa/lib/python3.11/site-packages/geopandas/io/file.py:322\u001b[0m, in \u001b[0;36m_read_file_fiona\u001b[0;34m(path_or_bytes, from_bytes, bbox, mask, rows, where, **kwargs)\u001b[0m\n\u001b[1;32m    319\u001b[0m     reader \u001b[39m=\u001b[39m fiona\u001b[39m.\u001b[39mopen\n\u001b[1;32m    321\u001b[0m \u001b[39mwith\u001b[39;00m fiona_env():\n\u001b[0;32m--> 322\u001b[0m     \u001b[39mwith\u001b[39;00m reader(path_or_bytes, \u001b[39m*\u001b[39;49m\u001b[39m*\u001b[39;49mkwargs) \u001b[39mas\u001b[39;00m features:\n\u001b[1;32m    323\u001b[0m         crs \u001b[39m=\u001b[39m features\u001b[39m.\u001b[39mcrs_wkt\n\u001b[1;32m    324\u001b[0m         \u001b[39m# attempt to get EPSG code\u001b[39;00m\n",
      "File \u001b[0;32m~/mambaforge/envs/orefa/lib/python3.11/site-packages/fiona/env.py:457\u001b[0m, in \u001b[0;36mensure_env_with_credentials.<locals>.wrapper\u001b[0;34m(*args, **kwds)\u001b[0m\n\u001b[1;32m    454\u001b[0m     session \u001b[39m=\u001b[39m DummySession()\n\u001b[1;32m    456\u001b[0m \u001b[39mwith\u001b[39;00m env_ctor(session\u001b[39m=\u001b[39msession):\n\u001b[0;32m--> 457\u001b[0m     \u001b[39mreturn\u001b[39;00m f(\u001b[39m*\u001b[39;49margs, \u001b[39m*\u001b[39;49m\u001b[39m*\u001b[39;49mkwds)\n",
      "File \u001b[0;32m~/mambaforge/envs/orefa/lib/python3.11/site-packages/fiona/__init__.py:292\u001b[0m, in \u001b[0;36mopen\u001b[0;34m(fp, mode, driver, schema, crs, encoding, layer, vfs, enabled_drivers, crs_wkt, allow_unsupported_drivers, **kwargs)\u001b[0m\n\u001b[1;32m    289\u001b[0m     path \u001b[39m=\u001b[39m parse_path(fp)\n\u001b[1;32m    291\u001b[0m \u001b[39mif\u001b[39;00m mode \u001b[39min\u001b[39;00m (\u001b[39m\"\u001b[39m\u001b[39ma\u001b[39m\u001b[39m\"\u001b[39m, \u001b[39m\"\u001b[39m\u001b[39mr\u001b[39m\u001b[39m\"\u001b[39m):\n\u001b[0;32m--> 292\u001b[0m     colxn \u001b[39m=\u001b[39m Collection(\n\u001b[1;32m    293\u001b[0m         path,\n\u001b[1;32m    294\u001b[0m         mode,\n\u001b[1;32m    295\u001b[0m         driver\u001b[39m=\u001b[39;49mdriver,\n\u001b[1;32m    296\u001b[0m         encoding\u001b[39m=\u001b[39;49mencoding,\n\u001b[1;32m    297\u001b[0m         layer\u001b[39m=\u001b[39;49mlayer,\n\u001b[1;32m    298\u001b[0m         enabled_drivers\u001b[39m=\u001b[39;49menabled_drivers,\n\u001b[1;32m    299\u001b[0m         allow_unsupported_drivers\u001b[39m=\u001b[39;49mallow_unsupported_drivers,\n\u001b[1;32m    300\u001b[0m         \u001b[39m*\u001b[39;49m\u001b[39m*\u001b[39;49mkwargs\n\u001b[1;32m    301\u001b[0m     )\n\u001b[1;32m    302\u001b[0m \u001b[39melif\u001b[39;00m mode \u001b[39m==\u001b[39m \u001b[39m\"\u001b[39m\u001b[39mw\u001b[39m\u001b[39m\"\u001b[39m:\n\u001b[1;32m    303\u001b[0m     colxn \u001b[39m=\u001b[39m Collection(\n\u001b[1;32m    304\u001b[0m         path,\n\u001b[1;32m    305\u001b[0m         mode,\n\u001b[0;32m   (...)\u001b[0m\n\u001b[1;32m    314\u001b[0m         \u001b[39m*\u001b[39m\u001b[39m*\u001b[39mkwargs\n\u001b[1;32m    315\u001b[0m     )\n",
      "File \u001b[0;32m~/mambaforge/envs/orefa/lib/python3.11/site-packages/fiona/collection.py:243\u001b[0m, in \u001b[0;36mCollection.__init__\u001b[0;34m(self, path, mode, driver, schema, crs, encoding, layer, vsi, archive, enabled_drivers, crs_wkt, ignore_fields, ignore_geometry, include_fields, wkt_version, allow_unsupported_drivers, **kwargs)\u001b[0m\n\u001b[1;32m    241\u001b[0m \u001b[39mif\u001b[39;00m \u001b[39mself\u001b[39m\u001b[39m.\u001b[39mmode \u001b[39m==\u001b[39m \u001b[39m\"\u001b[39m\u001b[39mr\u001b[39m\u001b[39m\"\u001b[39m:\n\u001b[1;32m    242\u001b[0m     \u001b[39mself\u001b[39m\u001b[39m.\u001b[39msession \u001b[39m=\u001b[39m Session()\n\u001b[0;32m--> 243\u001b[0m     \u001b[39mself\u001b[39;49m\u001b[39m.\u001b[39;49msession\u001b[39m.\u001b[39;49mstart(\u001b[39mself\u001b[39;49m, \u001b[39m*\u001b[39;49m\u001b[39m*\u001b[39;49mkwargs)\n\u001b[1;32m    244\u001b[0m \u001b[39melif\u001b[39;00m \u001b[39mself\u001b[39m\u001b[39m.\u001b[39mmode \u001b[39min\u001b[39;00m (\u001b[39m\"\u001b[39m\u001b[39ma\u001b[39m\u001b[39m\"\u001b[39m, \u001b[39m\"\u001b[39m\u001b[39mw\u001b[39m\u001b[39m\"\u001b[39m):\n\u001b[1;32m    245\u001b[0m     \u001b[39mself\u001b[39m\u001b[39m.\u001b[39msession \u001b[39m=\u001b[39m WritingSession()\n",
      "File \u001b[0;32mfiona/ogrext.pyx:588\u001b[0m, in \u001b[0;36mfiona.ogrext.Session.start\u001b[0;34m()\u001b[0m\n",
      "File \u001b[0;32mfiona/ogrext.pyx:143\u001b[0m, in \u001b[0;36mfiona.ogrext.gdal_open_vector\u001b[0;34m()\u001b[0m\n",
      "\u001b[0;31mDriverError\u001b[0m: /workspaces/OREFA/Assets/Data/aoi.csv: No such file or directory"
     ]
    }
   ],
   "source": [
    "parcel_df = gpd.read_file('/workspaces/OREFA/Assets/Data/aoi.csv')"
   ]
  },
  {
   "cell_type": "markdown",
   "metadata": {},
   "source": [
    "Import all files and put in Parcel object\n",
    "Calculate the concentration of product"
   ]
  },
  {
   "cell_type": "code",
   "execution_count": 12,
   "metadata": {},
   "outputs": [
    {
     "ename": "NameError",
     "evalue": "name 'parcel_df' is not defined",
     "output_type": "error",
     "traceback": [
      "\u001b[0;31m---------------------------------------------------------------------------\u001b[0m",
      "\u001b[0;31mNameError\u001b[0m                                 Traceback (most recent call last)",
      "\u001b[1;32m/Users/florisabrams/OREFA/nbs/00_Parcel.ipynb Cell 8\u001b[0m line \u001b[0;36m2\n\u001b[1;32m      <a href='vscode-notebook-cell:/Users/florisabrams/OREFA/nbs/00_Parcel.ipynb#X26sZmlsZQ%3D%3D?line=0'>1</a>\u001b[0m aoi_parcels \u001b[39m=\u001b[39m []\n\u001b[0;32m----> <a href='vscode-notebook-cell:/Users/florisabrams/OREFA/nbs/00_Parcel.ipynb#X26sZmlsZQ%3D%3D?line=1'>2</a>\u001b[0m \u001b[39mfor\u001b[39;00m input_parcel \u001b[39min\u001b[39;00m parcel_df\u001b[39m.\u001b[39mitertuples():\n\u001b[1;32m      <a href='vscode-notebook-cell:/Users/florisabrams/OREFA/nbs/00_Parcel.ipynb#X26sZmlsZQ%3D%3D?line=2'>3</a>\u001b[0m     parcel \u001b[39m=\u001b[39m Parcel(\u001b[39mid\u001b[39m\u001b[39m=\u001b[39minput_parcel\u001b[39m.\u001b[39mid, crop\u001b[39m=\u001b[39minput_parcel\u001b[39m.\u001b[39mcrop, soil \u001b[39m=\u001b[39m input_parcel\u001b[39m.\u001b[39msoil, deposition\u001b[39m=\u001b[39minput_parcel\u001b[39m.\u001b[39mdeposition, geom \u001b[39m=\u001b[39m input_parcel\u001b[39m.\u001b[39mgeom)\n\u001b[1;32m      <a href='vscode-notebook-cell:/Users/florisabrams/OREFA/nbs/00_Parcel.ipynb#X26sZmlsZQ%3D%3D?line=3'>4</a>\u001b[0m     parcel\u001b[39m.\u001b[39mread_config(config_path \u001b[39m=\u001b[39m \u001b[39m'\u001b[39m\u001b[39m/workspaces/OREFA/Assets/config.ini\u001b[39m\u001b[39m'\u001b[39m)\n",
      "\u001b[0;31mNameError\u001b[0m: name 'parcel_df' is not defined"
     ]
    }
   ],
   "source": [
    "aoi_parcels = []\n",
    "for input_parcel in parcel_df.itertuples():\n",
    "    parcel = Parcel(id=input_parcel.id, crop=input_parcel.crop, soil = input_parcel.soil, deposition=input_parcel.deposition, geom = input_parcel.geom)\n",
    "    parcel.read_config(config_path = '/workspaces/OREFA/Assets/config.ini')\n",
    "    parcel.product_conc_prediction(time = 1)\n",
    "    aoi_parcels.append(parcel)\n",
    "    \n",
    "print(aoi_parcels[0].product_concentration)"
   ]
  },
  {
   "cell_type": "code",
   "execution_count": null,
   "metadata": {},
   "outputs": [],
   "source": [
    "#| hide\n",
    "import nbdev; nbdev.nbdev_export()"
   ]
  }
 ],
 "metadata": {
  "kernelspec": {
   "display_name": "python3",
   "language": "python",
   "name": "python3"
  }
 },
 "nbformat": 4,
 "nbformat_minor": 4
}
