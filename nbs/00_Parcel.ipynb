{
 "cells": [
  {
   "cell_type": "markdown",
   "metadata": {},
   "source": [
    "# Parcel\n",
    "\n",
    "> Parcel object"
   ]
  },
  {
   "cell_type": "code",
   "execution_count": null,
   "metadata": {},
   "outputs": [],
   "source": [
    "#| default_exp Parcel"
   ]
  },
  {
   "cell_type": "code",
   "execution_count": null,
   "metadata": {},
   "outputs": [],
   "source": [
    "#| hide\n",
    "from nbdev.showdoc import *\n",
    "import json\n",
    "from math import exp, log\n",
    "import configparser\n",
    "import os\n",
    "import geopandas as gpd"
   ]
  },
  {
   "cell_type": "code",
   "execution_count": null,
   "metadata": {},
   "outputs": [],
   "source": [
    "#| export\n",
    "# Pydantic for polygon is difficult\n",
    "\n",
    "class Parcel():\n",
    "    def __init__(self, id, crop, soil, deposition, geom):\n",
    "        self.id = id\n",
    "        self.crop = crop\n",
    "        self.soil = soil\n",
    "        self.deposition = deposition\n",
    "        self.geom = geom\n",
    "        self.config = f'{os.getcwd()}/Assets/config.ini'\n",
    "        \n",
    "    def __repr__(self):\n",
    "        return \"<Parcel('%s', '%s', '%s', '%s')>\" % (self.crop, self.soil, self.deposition, self.geom)\n",
    "     \n",
    "    def product_conc_prediction(self, time):\n",
    "        dir = os.getcwd() + '/'\n",
    "        with open(dir + self.config[\"ModelInputs\"][\"CropGroupProperties\"], 'r') as crop_group_to_properties:\n",
    "                dict_crop_group_to_properties = json.load(crop_group_to_properties)\n",
    "        with open(dir + self.config[\"ModelInputs\"][\"SoilGroupProperties\"], 'r') as soil_properties:\n",
    "                dict_soil_to_properties = json.load(soil_properties)\n",
    "        with open(dir + self.config[\"ModelInputs\"][\"RnProperties\"], 'r') as RN_properties:\n",
    "                dict_RN_properties = json.load(RN_properties)\n",
    "        with open(dir + self.config[\"ModelInputs\"][\"TF\"], 'r') as TF:\n",
    "                TF_dict = json.load(TF)\n",
    "        with open(dir + self.config[\"ModelInputs\"][\"CfilLevel\"], 'r') as cfil:\n",
    "                intervention_levels = json.load(cfil)\n",
    "        with open(dir + self.config[\"ModelInputs\"][\"AnimalFeedIntake\"], 'r') as feed:\n",
    "                animal_daily_feed_intake = json.load(feed)\n",
    "        with open( dir + self.config[\"ModelInputs\"][\"AnimalDryWeight\"], 'r') as dry:\n",
    "                dict_dry_weight_animal_feed = json.load(dry)\n",
    "\n",
    "        root_zone_depth = float(dict_crop_group_to_properties.get(self.crop).get('root_depth'))\n",
    "        soil_density = float(dict_soil_to_properties.get(self.soil).get('density'))\n",
    "        net_infiltration = float(\n",
    "                dict_soil_to_properties.get(self.soil).get(\"Net_infiltration_rate\"))\n",
    "        Volumetric_water = float(\n",
    "                dict_soil_to_properties.get(self.soil).get(\"Volumetric_water_content\"))\n",
    "        kd = float(dict_soil_to_properties.get(self.soil).get(\"kd\"))\n",
    "\n",
    "        leaching_rate = net_infiltration / (root_zone_depth * (Volumetric_water + (soil_density * kd)))\n",
    "        decay_rate = float(dict_RN_properties.get(\"Cs-137\").get(\"decay_rate\"))\n",
    "\n",
    "            # as long as the time_to_clean field is not field contin to search for the year where concentration is below CFIL\n",
    "            # time untill concentration is = fill vegetation\n",
    "\n",
    "            # best to have real values for soil concenrtation, but we divide the surface contamination over 30 cm soil with density of 135O kg/m3\n",
    "            # Also possible to use this factor of 1/53, it is a homogenous distribution of cesium over the soil based on a japanese paper\n",
    "        current_soil_concentration = float(self.deposition) / (soil_density * float(root_zone_depth)) * exp(-(decay_rate + leaching_rate) * time)\n",
    "        concentration_in_vegetation = float(current_soil_concentration)  * float(TF_dict.get(self.crop).get(self.soil))\n",
    "\n",
    "        if self.crop in [\"pasture\", \"feed crop\"]:\n",
    "            if self.crop in [\"pasture\"]:\n",
    "                ratio_soiltopasture = animal_daily_feed_intake.get('cow').get(self.crop).get('soil')\n",
    "                pasture_intake = animal_daily_feed_intake.get('cow').get(self.crop).get('grass')\n",
    "                pasture_intake_fresh = float(pasture_intake) / float(dict_dry_weight_animal_feed.get('pasture'))\n",
    "\n",
    "                transfer_to_milk = 0.0052\n",
    "                transfer_to_meat = 0.019\n",
    "\n",
    "                milk_concentration = ((concentration_in_vegetation + (\n",
    "                                current_soil_concentration * float(ratio_soiltopasture))) * float(\n",
    "                        pasture_intake_fresh)) * transfer_to_milk\n",
    "                meat_concentration = ((concentration_in_vegetation + (\n",
    "                            current_soil_concentration * float(ratio_soiltopasture))) * float(\n",
    "                        pasture_intake_fresh)) * transfer_to_meat\n",
    "\n",
    "            else:\n",
    "                pasture_intake = animal_daily_feed_intake.get('cow').get(self.crop)\n",
    "                pasture_intake_fresh = float(pasture_intake) / float(dict_dry_weight_animal_feed.get('pasture'))\n",
    "                transfer_to_milk = 0.0052\n",
    "                transfer_to_meat = 0.019\n",
    "\n",
    "                milk_concentration = ((concentration_in_vegetation) * pasture_intake_fresh) * transfer_to_milk\n",
    "                meat_concentration = ((concentration_in_vegetation) * pasture_intake_fresh) * transfer_to_meat\n",
    "\n",
    "                # Will always be higher than milk\n",
    "            self.product_concentration = milk_concentration\n",
    "\n",
    "            if self.product_concentration < float(intervention_levels.get('milk')):\n",
    "                self.remediation_needed = False\n",
    "            else:\n",
    "                self.remediation_needed = True\n",
    "\n",
    "\n",
    "        else:\n",
    "            self.product_concentration = concentration_in_vegetation\n",
    "\n",
    "            if self.product_concentration < float(intervention_levels.get('crops')):\n",
    "                self.remediation_needed = False\n",
    "            else:\n",
    "                self.remediation_needed = True\n",
    "\n",
    "        return\n"
   ]
  },
  {
   "cell_type": "code",
   "execution_count": null,
   "metadata": {},
   "outputs": [],
   "source": [
    "def test_data():\n",
    "    parcel_df = gpd.read_file(f'{os.getcwd()}/Assets/Data/aoi.csv')\n",
    "    return parcel_df"
   ]
  },
  {
   "cell_type": "markdown",
   "metadata": {},
   "source": [
    "Import all files and put in Parcel object\n",
    "Calculate the concentration of product"
   ]
  },
  {
   "cell_type": "code",
   "execution_count": null,
   "metadata": {},
   "outputs": [],
   "source": [
    "#| hide\n",
    "import nbdev; nbdev.nbdev_export()"
   ]
  }
 ],
 "metadata": {
  "kernelspec": {
   "display_name": "python3",
   "language": "python",
   "name": "python3"
  }
 },
 "nbformat": 4,
 "nbformat_minor": 4
}
